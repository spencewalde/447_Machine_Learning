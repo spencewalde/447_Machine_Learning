{
  "nbformat": 4,
  "nbformat_minor": 0,
  "metadata": {
    "colab": {
      "name": "MachineLearningFinalProject",
      "provenance": []
    },
    "kernelspec": {
      "name": "python3",
      "display_name": "Python 3"
    },
    "language_info": {
      "name": "python"
    }
  },
  "cells": [
    {
      "cell_type": "code",
      "metadata": {
        "id": "tM4bKS1SK1DX"
      },
      "source": [
        "# description : this program uses a RNN called LSTM\n",
        "# to predict closing stock price of a corportion using past 60 day stock price"
      ],
      "execution_count": 109,
      "outputs": []
    },
    {
      "cell_type": "code",
      "metadata": {
        "id": "YaTyDHXzDtsV"
      },
      "source": [
        "#import the libraries\n",
        "import math\n",
        "import pandas_datareader as web\n",
        "import numpy as np\n",
        "import pandas as pd\n",
        "from sklearn.preprocessing import MinMaxScaler\n",
        "from keras.models import Sequential\n",
        "from keras.layers import Dense,LSTM\n",
        "import matplotlib.pyplot as plt\n",
        "plt.style.use('fivethirtyeight')\n",
        "\n",
        "# import math\n",
        "# import matplotlib.pyplot as plt\n",
        "# import keras\n",
        "# import pandas as pd\n",
        "# import numpy as np\n",
        "# from keras.models import Sequential\n",
        "# from keras.layers import Dense\n",
        "# from keras.layers import LSTM\n",
        "# from keras.layers import Dropout\n",
        "# from keras.layers import *\n",
        "# from sklearn.preprocessing import MinMaxScaler\n",
        "# from sklearn.metrics import mean_squared_error\n",
        "# from sklearn.metrics import mean_absolute_error\n",
        "# from sklearn.model_selection import train_test_split\n",
        "# from keras.callbacks import EarlyStopping"
      ],
      "execution_count": 110,
      "outputs": []
    },
    {
      "cell_type": "code",
      "metadata": {
        "colab": {
          "base_uri": "https://localhost:8080/",
          "height": 427
        },
        "id": "RewIV4-UELWE",
        "outputId": "89013aa7-410d-48be-f6db-f4781fee438a"
      },
      "source": [
        "# get the stock quote\n",
        "df = web.DataReader('AMZN', data_source='yahoo', start= '2014-01-01', end='2021-04-11')\n",
        "#show the data\n",
        "df"
      ],
      "execution_count": 111,
      "outputs": [
        {
          "output_type": "execute_result",
          "data": {
            "text/html": [
              "<div>\n",
              "<style scoped>\n",
              "    .dataframe tbody tr th:only-of-type {\n",
              "        vertical-align: middle;\n",
              "    }\n",
              "\n",
              "    .dataframe tbody tr th {\n",
              "        vertical-align: top;\n",
              "    }\n",
              "\n",
              "    .dataframe thead th {\n",
              "        text-align: right;\n",
              "    }\n",
              "</style>\n",
              "<table border=\"1\" class=\"dataframe\">\n",
              "  <thead>\n",
              "    <tr style=\"text-align: right;\">\n",
              "      <th></th>\n",
              "      <th>High</th>\n",
              "      <th>Low</th>\n",
              "      <th>Open</th>\n",
              "      <th>Close</th>\n",
              "      <th>Volume</th>\n",
              "      <th>Adj Close</th>\n",
              "    </tr>\n",
              "    <tr>\n",
              "      <th>Date</th>\n",
              "      <th></th>\n",
              "      <th></th>\n",
              "      <th></th>\n",
              "      <th></th>\n",
              "      <th></th>\n",
              "      <th></th>\n",
              "    </tr>\n",
              "  </thead>\n",
              "  <tbody>\n",
              "    <tr>\n",
              "      <th>2014-01-02</th>\n",
              "      <td>399.359985</td>\n",
              "      <td>394.019989</td>\n",
              "      <td>398.799988</td>\n",
              "      <td>397.970001</td>\n",
              "      <td>2137800</td>\n",
              "      <td>397.970001</td>\n",
              "    </tr>\n",
              "    <tr>\n",
              "      <th>2014-01-03</th>\n",
              "      <td>402.709991</td>\n",
              "      <td>396.220001</td>\n",
              "      <td>398.290009</td>\n",
              "      <td>396.440002</td>\n",
              "      <td>2210200</td>\n",
              "      <td>396.440002</td>\n",
              "    </tr>\n",
              "    <tr>\n",
              "      <th>2014-01-06</th>\n",
              "      <td>397.000000</td>\n",
              "      <td>388.420013</td>\n",
              "      <td>395.850006</td>\n",
              "      <td>393.630005</td>\n",
              "      <td>3170600</td>\n",
              "      <td>393.630005</td>\n",
              "    </tr>\n",
              "    <tr>\n",
              "      <th>2014-01-07</th>\n",
              "      <td>398.470001</td>\n",
              "      <td>394.290009</td>\n",
              "      <td>395.040009</td>\n",
              "      <td>398.029999</td>\n",
              "      <td>1916000</td>\n",
              "      <td>398.029999</td>\n",
              "    </tr>\n",
              "    <tr>\n",
              "      <th>2014-01-08</th>\n",
              "      <td>403.000000</td>\n",
              "      <td>396.040009</td>\n",
              "      <td>398.470001</td>\n",
              "      <td>401.920013</td>\n",
              "      <td>2316500</td>\n",
              "      <td>401.920013</td>\n",
              "    </tr>\n",
              "    <tr>\n",
              "      <th>...</th>\n",
              "      <td>...</td>\n",
              "      <td>...</td>\n",
              "      <td>...</td>\n",
              "      <td>...</td>\n",
              "      <td>...</td>\n",
              "      <td>...</td>\n",
              "    </tr>\n",
              "    <tr>\n",
              "      <th>2021-04-05</th>\n",
              "      <td>3235.959961</td>\n",
              "      <td>3161.239990</td>\n",
              "      <td>3173.000000</td>\n",
              "      <td>3226.729980</td>\n",
              "      <td>3334900</td>\n",
              "      <td>3226.729980</td>\n",
              "    </tr>\n",
              "    <tr>\n",
              "      <th>2021-04-06</th>\n",
              "      <td>3247.310059</td>\n",
              "      <td>3217.040039</td>\n",
              "      <td>3223.750000</td>\n",
              "      <td>3223.820068</td>\n",
              "      <td>2537800</td>\n",
              "      <td>3223.820068</td>\n",
              "    </tr>\n",
              "    <tr>\n",
              "      <th>2021-04-07</th>\n",
              "      <td>3303.610107</td>\n",
              "      <td>3223.649902</td>\n",
              "      <td>3233.800049</td>\n",
              "      <td>3279.389893</td>\n",
              "      <td>3346200</td>\n",
              "      <td>3279.389893</td>\n",
              "    </tr>\n",
              "    <tr>\n",
              "      <th>2021-04-08</th>\n",
              "      <td>3324.500000</td>\n",
              "      <td>3292.000000</td>\n",
              "      <td>3310.899902</td>\n",
              "      <td>3299.300049</td>\n",
              "      <td>2812100</td>\n",
              "      <td>3299.300049</td>\n",
              "    </tr>\n",
              "    <tr>\n",
              "      <th>2021-04-09</th>\n",
              "      <td>3372.199951</td>\n",
              "      <td>3288.899902</td>\n",
              "      <td>3304.699951</td>\n",
              "      <td>3372.199951</td>\n",
              "      <td>4334600</td>\n",
              "      <td>3372.199951</td>\n",
              "    </tr>\n",
              "  </tbody>\n",
              "</table>\n",
              "<p>1830 rows × 6 columns</p>\n",
              "</div>"
            ],
            "text/plain": [
              "                   High          Low  ...   Volume    Adj Close\n",
              "Date                                  ...                      \n",
              "2014-01-02   399.359985   394.019989  ...  2137800   397.970001\n",
              "2014-01-03   402.709991   396.220001  ...  2210200   396.440002\n",
              "2014-01-06   397.000000   388.420013  ...  3170600   393.630005\n",
              "2014-01-07   398.470001   394.290009  ...  1916000   398.029999\n",
              "2014-01-08   403.000000   396.040009  ...  2316500   401.920013\n",
              "...                 ...          ...  ...      ...          ...\n",
              "2021-04-05  3235.959961  3161.239990  ...  3334900  3226.729980\n",
              "2021-04-06  3247.310059  3217.040039  ...  2537800  3223.820068\n",
              "2021-04-07  3303.610107  3223.649902  ...  3346200  3279.389893\n",
              "2021-04-08  3324.500000  3292.000000  ...  2812100  3299.300049\n",
              "2021-04-09  3372.199951  3288.899902  ...  4334600  3372.199951\n",
              "\n",
              "[1830 rows x 6 columns]"
            ]
          },
          "metadata": {
            "tags": []
          },
          "execution_count": 111
        }
      ]
    },
    {
      "cell_type": "code",
      "metadata": {
        "colab": {
          "base_uri": "https://localhost:8080/"
        },
        "id": "VAqrWhJDELPx",
        "outputId": "1011554f-1fe8-41f8-8d8a-e9d11fdeafbd"
      },
      "source": [
        "# get the bumber of rows and columns in the dataset\n",
        "df.shape\n"
      ],
      "execution_count": 112,
      "outputs": [
        {
          "output_type": "execute_result",
          "data": {
            "text/plain": [
              "(1830, 6)"
            ]
          },
          "metadata": {
            "tags": []
          },
          "execution_count": 112
        }
      ]
    },
    {
      "cell_type": "code",
      "metadata": {
        "colab": {
          "base_uri": "https://localhost:8080/",
          "height": 489
        },
        "id": "RXuPxpcnELJ-",
        "outputId": "95c15ac0-8426-46b0-b9c2-3e9f2278aee1"
      },
      "source": [
        "#visualize the closing price history\n",
        "plt.figure(figsize=(16,8))\n",
        "plt.title('Close Price History')\n",
        "plt.plot(df['Close'])\n",
        "plt.xlabel('Date', fontsize=18)\n",
        "plt.ylabel('Close Price USD ($)', fontsize=18)\n",
        "plt.show()"
      ],
      "execution_count": 113,
      "outputs": [
        {
          "output_type": "display_data",
          "data": {
            "image/png": "[encoded data removed]",
            "text/plain": [
              "<Figure size 1152x576 with 1 Axes>"
            ]
          },
          "metadata": {
            "tags": []
          }
        }
      ]
    },
    {
      "cell_type": "code",
      "metadata": {
        "colab": {
          "base_uri": "https://localhost:8080/"
        },
        "id": "7i8HFMhnFXqp",
        "outputId": "e3e4da79-11db-47c2-dc69-b023e1564577"
      },
      "source": [
        "#Create a new dataframe with only the 'close'\n",
        "data = df.filter(['Close'])\n",
        "# convert the dataframe to a numpy array\n",
        "dataset = data.values\n",
        "#get or compute the number of rows to train the model\n",
        "training_data_len = math.ceil(len(dataset)* .8)\n",
        "\n",
        "\n",
        "training_data_len"
      ],
      "execution_count": 114,
      "outputs": [
        {
          "output_type": "execute_result",
          "data": {
            "text/plain": [
              "1464"
            ]
          },
          "metadata": {
            "tags": []
          },
          "execution_count": 114
        }
      ]
    },
    {
      "cell_type": "code",
      "metadata": {
        "colab": {
          "base_uri": "https://localhost:8080/"
        },
        "id": "s4lkMOH-FXnk",
        "outputId": "fafade77-f58a-4284-e861-9dfe0733ee87"
      },
      "source": [
        "## Scale the data makes values between zero and one\n",
        "scaler = MinMaxScaler(feature_range=(0,1))\n",
        "\n",
        "scaled_data = scaler.fit_transform(dataset)\n",
        "\n",
        "scaled_data"
      ],
      "execution_count": 115,
      "outputs": [
        {
          "output_type": "execute_result",
          "data": {
            "text/plain": [
              "array([[0.0342179 ],\n",
              "       [0.03374634],\n",
              "       [0.03288026],\n",
              "       ...,\n",
              "       [0.92231158],\n",
              "       [0.92844817],\n",
              "       [0.95091694]])"
            ]
          },
          "metadata": {
            "tags": []
          },
          "execution_count": 115
        }
      ]
    },
    {
      "cell_type": "code",
      "metadata": {
        "colab": {
          "base_uri": "https://localhost:8080/"
        },
        "id": "YiF1YwRJFXkM",
        "outputId": "bfcc919f-3f01-483a-e286-1f89b8a7a069"
      },
      "source": [
        "#create the training dataset\n",
        "#create scaled training data\n",
        "train_data = scaled_data[0:training_data_len,:]\n",
        "#split the data into xtrain and ytrain data sets\n",
        "\n",
        "x_train = []\n",
        "y_train = []\n",
        "\n",
        "# appends the next 60 values to the xtrain array\n",
        "for i in range(60, len(train_data)):\n",
        "  x_train.append(train_data[i-60:i,0])\n",
        "  y_train.append(train_data[i, 0])\n",
        "  #if statement is to visual what is going on!!!\n",
        "  #y_train is the 61st data point that we are trying to predict\n",
        "  if i<=61:\n",
        "    print(x_train)\n",
        "    print(y_train)\n",
        "    print()\n",
        "\n",
        "\n"
      ],
      "execution_count": 116,
      "outputs": [
        {
          "output_type": "stream",
          "text": [
            "[array([0.0342179 , 0.03374634, 0.03288026, 0.0342364 , 0.03543535,\n",
            "       0.03515488, 0.03412236, 0.03206349, 0.03408537, 0.03357065,\n",
            "       0.03354908, 0.03472337, 0.03701648, 0.03624287, 0.03480351,\n",
            "       0.03102173, 0.03061488, 0.03312682, 0.0299738 , 0.03577131,\n",
            "       0.02211126, 0.01824626, 0.01880105, 0.01833873, 0.02084758,\n",
            "       0.02284789, 0.02278317, 0.02306673, 0.01920172, 0.02165203,\n",
            "       0.02169826, 0.02055786, 0.01862536, 0.01937124, 0.01843427,\n",
            "       0.0199815 , 0.02199722, 0.02245338, 0.02255509, 0.02316227,\n",
            "       0.02244721, 0.02371705, 0.02632763, 0.0262629 , 0.02623208,\n",
            "       0.02576051, 0.02523347, 0.02579442, 0.02606257, 0.02674988,\n",
            "       0.02715056, 0.02830019, 0.0265927 , 0.0252797 , 0.02270611,\n",
            "       0.02000308, 0.02088457, 0.01740175, 0.01587918, 0.0158237 ])]\n",
            "[0.01523192597930012]\n",
            "\n",
            "[array([0.0342179 , 0.03374634, 0.03288026, 0.0342364 , 0.03543535,\n",
            "       0.03515488, 0.03412236, 0.03206349, 0.03408537, 0.03357065,\n",
            "       0.03354908, 0.03472337, 0.03701648, 0.03624287, 0.03480351,\n",
            "       0.03102173, 0.03061488, 0.03312682, 0.0299738 , 0.03577131,\n",
            "       0.02211126, 0.01824626, 0.01880105, 0.01833873, 0.02084758,\n",
            "       0.02284789, 0.02278317, 0.02306673, 0.01920172, 0.02165203,\n",
            "       0.02169826, 0.02055786, 0.01862536, 0.01937124, 0.01843427,\n",
            "       0.0199815 , 0.02199722, 0.02245338, 0.02255509, 0.02316227,\n",
            "       0.02244721, 0.02371705, 0.02632763, 0.0262629 , 0.02623208,\n",
            "       0.02576051, 0.02523347, 0.02579442, 0.02606257, 0.02674988,\n",
            "       0.02715056, 0.02830019, 0.0265927 , 0.0252797 , 0.02270611,\n",
            "       0.02000308, 0.02088457, 0.01740175, 0.01587918, 0.0158237 ]), array([0.03374634, 0.03288026, 0.0342364 , 0.03543535, 0.03515488,\n",
            "       0.03412236, 0.03206349, 0.03408537, 0.03357065, 0.03354908,\n",
            "       0.03472337, 0.03701648, 0.03624287, 0.03480351, 0.03102173,\n",
            "       0.03061488, 0.03312682, 0.0299738 , 0.03577131, 0.02211126,\n",
            "       0.01824626, 0.01880105, 0.01833873, 0.02084758, 0.02284789,\n",
            "       0.02278317, 0.02306673, 0.01920172, 0.02165203, 0.02169826,\n",
            "       0.02055786, 0.01862536, 0.01937124, 0.01843427, 0.0199815 ,\n",
            "       0.02199722, 0.02245338, 0.02255509, 0.02316227, 0.02244721,\n",
            "       0.02371705, 0.02632763, 0.0262629 , 0.02623208, 0.02576051,\n",
            "       0.02523347, 0.02579442, 0.02606257, 0.02674988, 0.02715056,\n",
            "       0.02830019, 0.0265927 , 0.0252797 , 0.02270611, 0.02000308,\n",
            "       0.02088457, 0.01740175, 0.01587918, 0.0158237 , 0.01523193])]\n",
            "[0.01523192597930012, 0.017272300533691262]\n",
            "\n"
          ],
          "name": "stdout"
        }
      ]
    },
    {
      "cell_type": "code",
      "metadata": {
        "id": "EVCjcC8nFXhB"
      },
      "source": [
        "#convert the x_train and y_train to numpy arrays\n",
        "x_train, y_train = np.array(x_train), np.array(y_train)\n"
      ],
      "execution_count": 117,
      "outputs": []
    },
    {
      "cell_type": "code",
      "metadata": {
        "colab": {
          "base_uri": "https://localhost:8080/"
        },
        "id": "KzYGPe8kFXdq",
        "outputId": "19afa97e-0a95-4b1d-e829-812f69b17c44"
      },
      "source": [
        "#reshape the x_train dataset\n",
        "#lstm expects the data to be 3 dimensional\n",
        "#(samples, timesteps, features)\n",
        "\n",
        "#currently 2 dimensional\n",
        "print('shape at 2d')\n",
        "x_train.shape\n",
        "#(1543,60)\n",
        "\n",
        "#(sample size needs to be a variable(x_train.shape[0]), 60 timesteps(x_train.shape[1]), and 1 feature (closing price))\n",
        "x_train = np.reshape(x_train,(x_train.shape[0],x_train.shape[1],1))\n",
        "print('shape at 3d')\n",
        "x_train.shape\n",
        "\n",
        "\n"
      ],
      "execution_count": 118,
      "outputs": [
        {
          "output_type": "stream",
          "text": [
            "shape at 2d\n",
            "shape at 3d\n"
          ],
          "name": "stdout"
        },
        {
          "output_type": "execute_result",
          "data": {
            "text/plain": [
              "(1404, 60, 1)"
            ]
          },
          "metadata": {
            "tags": []
          },
          "execution_count": 118
        }
      ]
    },
    {
      "cell_type": "code",
      "metadata": {
        "id": "Z_Xbj0r8XPvk"
      },
      "source": [
        "# # THIS MODEL DOES NOT DO AS WELL ( probably because this program only takes in account the last 60 days of stock prices)\n",
        "# other programs model training code\n",
        "# model = Sequential()\n",
        "# #Adding the first LSTM layer and some Dropout regularisation\n",
        "# model.add(LSTM(units = 50, return_sequences = True, input_shape = (x_train.shape[1], 1)))\n",
        "# model.add(Dropout(0.2))\n",
        "# # Adding a second LSTM layer and some Dropout regularisation\n",
        "# model.add(LSTM(units = 50, return_sequences = True))\n",
        "# model.add(Dropout(0.2))\n",
        "# # Adding a third LSTM layer and some Dropout regularisation\n",
        "# model.add(LSTM(units = 50, return_sequences = True))\n",
        "# model.add(Dropout(0.2))\n",
        "# # Adding a fourth LSTM layer and some Dropout regularisation\n",
        "# model.add(LSTM(units = 50))\n",
        "# model.add(Dropout(0.2))\n",
        "# # Adding the output layer\n",
        "# model.add(Dense(units = 1))\n",
        "\n",
        "# # Compiling the RNN\n",
        "# model.compile(optimizer = 'adam', loss = 'mean_squared_error')\n",
        "\n",
        "# # Fitting the RNN to the Training set\n",
        "# model.fit(x_train, y_train, epochs = 25, batch_size = 16)"
      ],
      "execution_count": null,
      "outputs": []
    },
    {
      "cell_type": "code",
      "metadata": {
        "id": "pLHB42xjFXag"
      },
      "source": [
        "#NEW PROGRAMS MODEL TRAINING CODE\n",
        "# THIS MODEL DOES BETTER THAN THE OTHER MODEL\n",
        "#build the lstm model\n",
        "model = Sequential()\n",
        "model.add(LSTM(50,return_sequences=True, input_shape= (x_train.shape[1],1)))\n",
        "model.add(LSTM(50,return_sequences=False))\n",
        "model.add(Dense(25))\n",
        "model.add(Dense(1))"
      ],
      "execution_count": 120,
      "outputs": []
    },
    {
      "cell_type": "code",
      "metadata": {
        "id": "KIvKFI6hFXWi"
      },
      "source": [
        "#compile the model\n",
        "model.compile(optimizer='adam', loss='mean_squared_error')\n"
      ],
      "execution_count": 121,
      "outputs": []
    },
    {
      "cell_type": "code",
      "metadata": {
        "id": "60SmxpzpFXSA"
      },
      "source": [
        "#train the model\n",
        "#COULD MAYBE PLAY AROUND WITH BATCH SIZE AND EPOCHS\n",
        "#OTHER MODEL USED BATCHSIZE = 100 , EPOCHS = 32\n",
        "model.fit(x_train,y_train,batch_size=1, epochs=1)"
      ],
      "execution_count": 122,
      "outputs": []
    },
    {
      "cell_type": "code",
      "metadata": {
        "id": "E24Gg69iLevh"
      },
      "source": [
        "#create the testing dataset\n",
        "#create a new array containing scaled values from index 1543 to 2003\n",
        "test_data = scaled_data[training_data_len - 60: , :]\n",
        "#create the data sets x_test and y_test\n",
        "x_test = []\n",
        "y_test = dataset[training_data_len:,:]\n",
        "\n",
        "for i in range(60,len(test_data)):\n",
        "  x_test.append(test_data[i-60:i, 0])"
      ],
      "execution_count": 132,
      "outputs": []
    },
    {
      "cell_type": "code",
      "metadata": {
        "id": "HLrqQdHdLeoS"
      },
      "source": [
        "#convert the data to a numpy array\n",
        "x_test = np.array(x_test)"
      ],
      "execution_count": 133,
      "outputs": []
    },
    {
      "cell_type": "code",
      "metadata": {
        "id": "3N0xjIprLekg"
      },
      "source": [
        "#reshape the data (samples , timesteps, features) --- like before\n",
        "x_test = np.reshape(x_test, (x_test.shape[0], x_test.shape[1], 1))\n"
      ],
      "execution_count": 134,
      "outputs": []
    },
    {
      "cell_type": "code",
      "metadata": {
        "id": "lXPcF39PLegL"
      },
      "source": [
        "#get the models predicted price values \n",
        "predictions = model.predict(x_test)\n",
        "predictions = scaler.inverse_transform(predictions)\n",
        "#changing the values back to 2d\n"
      ],
      "execution_count": 135,
      "outputs": []
    },
    {
      "cell_type": "code",
      "metadata": {
        "colab": {
          "base_uri": "https://localhost:8080/"
        },
        "id": "l6pUWM0iLeaw",
        "outputId": "af103a36-698e-4053-fee0-262632768f48"
      },
      "source": [
        "# get the root mean squared error (RSME)\n",
        "#closer to zero the more accurate\n",
        "rmse = np.sqrt(np.mean(predictions - y_test) **2)\n",
        "rmse"
      ],
      "execution_count": 136,
      "outputs": [
        {
          "output_type": "execute_result",
          "data": {
            "text/plain": [
              "187.31430637380464"
            ]
          },
          "metadata": {
            "tags": []
          },
          "execution_count": 136
        }
      ]
    },
    {
      "cell_type": "code",
      "metadata": {
        "colab": {
          "base_uri": "https://localhost:8080/",
          "height": 610
        },
        "id": "qVTHyVUmLeRk",
        "outputId": "f0640c4b-27b9-422e-d877-9ef2f17d9374"
      },
      "source": [
        "#plot the data \n",
        "train = data[:training_data_len]\n",
        "valid = data[training_data_len:]\n",
        "valid['Predictions'] = predictions\n",
        "\n",
        "#visualize the data\n",
        "\n",
        "plt.figure(figsize=(16,8))\n",
        "plt.title('Model')\n",
        "plt.xlabel('Date',fontsize=18)\n",
        "plt.ylabel('Close Price USD ($)', fontsize=18)\n",
        "plt.plot(train['Close'])\n",
        "plt.plot(valid[['Close','Predictions']])\n",
        "plt.legend(['Train','Val','Predictions'], loc='lower right')\n",
        "plt.show()\n"
      ],
      "execution_count": 137,
      "outputs": [
        {
          "output_type": "stream",
          "text": [
            "/usr/local/lib/python3.7/dist-packages/ipykernel_launcher.py:4: SettingWithCopyWarning: \n",
            "A value is trying to be set on a copy of a slice from a DataFrame.\n",
            "Try using .loc[row_indexer,col_indexer] = value instead\n",
            "\n",
            "See the caveats in the documentation: https://pandas.pydata.org/pandas-docs/stable/user_guide/indexing.html#returning-a-view-versus-a-copy\n",
            "  after removing the cwd from sys.path.\n"
          ],
          "name": "stderr"
        },
        {
          "output_type": "display_data",
          "data": {
            "image/png": "[encoded data removed]",
            "text/plain": [
              "<Figure size 1152x576 with 1 Axes>"
            ]
          },
          "metadata": {
            "tags": []
          }
        }
      ]
    },
    {
      "cell_type": "code",
      "metadata": {
        "colab": {
          "base_uri": "https://localhost:8080/",
          "height": 427
        },
        "id": "bf2F3L3JQtT5",
        "outputId": "3f75f910-6a22-4b7c-f707-32d8e7af1b96"
      },
      "source": [
        "# show the valid and the predicted prices\n",
        "valid "
      ],
      "execution_count": 138,
      "outputs": [
        {
          "output_type": "execute_result",
          "data": {
            "text/html": [
              "<div>\n",
              "<style scoped>\n",
              "    .dataframe tbody tr th:only-of-type {\n",
              "        vertical-align: middle;\n",
              "    }\n",
              "\n",
              "    .dataframe tbody tr th {\n",
              "        vertical-align: top;\n",
              "    }\n",
              "\n",
              "    .dataframe thead th {\n",
              "        text-align: right;\n",
              "    }\n",
              "</style>\n",
              "<table border=\"1\" class=\"dataframe\">\n",
              "  <thead>\n",
              "    <tr style=\"text-align: right;\">\n",
              "      <th></th>\n",
              "      <th>Close</th>\n",
              "      <th>Predictions</th>\n",
              "    </tr>\n",
              "    <tr>\n",
              "      <th>Date</th>\n",
              "      <th></th>\n",
              "      <th></th>\n",
              "    </tr>\n",
              "  </thead>\n",
              "  <tbody>\n",
              "    <tr>\n",
              "      <th>2019-10-25</th>\n",
              "      <td>1761.329956</td>\n",
              "      <td>1751.275635</td>\n",
              "    </tr>\n",
              "    <tr>\n",
              "      <th>2019-10-28</th>\n",
              "      <td>1777.079956</td>\n",
              "      <td>1755.002808</td>\n",
              "    </tr>\n",
              "    <tr>\n",
              "      <th>2019-10-29</th>\n",
              "      <td>1762.709961</td>\n",
              "      <td>1757.809570</td>\n",
              "    </tr>\n",
              "    <tr>\n",
              "      <th>2019-10-30</th>\n",
              "      <td>1779.989990</td>\n",
              "      <td>1759.656494</td>\n",
              "    </tr>\n",
              "    <tr>\n",
              "      <th>2019-10-31</th>\n",
              "      <td>1776.660034</td>\n",
              "      <td>1760.871338</td>\n",
              "    </tr>\n",
              "    <tr>\n",
              "      <th>...</th>\n",
              "      <td>...</td>\n",
              "      <td>...</td>\n",
              "    </tr>\n",
              "    <tr>\n",
              "      <th>2021-04-05</th>\n",
              "      <td>3226.729980</td>\n",
              "      <td>2837.869141</td>\n",
              "    </tr>\n",
              "    <tr>\n",
              "      <th>2021-04-06</th>\n",
              "      <td>3223.820068</td>\n",
              "      <td>2840.915771</td>\n",
              "    </tr>\n",
              "    <tr>\n",
              "      <th>2021-04-07</th>\n",
              "      <td>3279.389893</td>\n",
              "      <td>2848.699219</td>\n",
              "    </tr>\n",
              "    <tr>\n",
              "      <th>2021-04-08</th>\n",
              "      <td>3299.300049</td>\n",
              "      <td>2861.460205</td>\n",
              "    </tr>\n",
              "    <tr>\n",
              "      <th>2021-04-09</th>\n",
              "      <td>3372.199951</td>\n",
              "      <td>2878.531982</td>\n",
              "    </tr>\n",
              "  </tbody>\n",
              "</table>\n",
              "<p>366 rows × 2 columns</p>\n",
              "</div>"
            ],
            "text/plain": [
              "                  Close  Predictions\n",
              "Date                                \n",
              "2019-10-25  1761.329956  1751.275635\n",
              "2019-10-28  1777.079956  1755.002808\n",
              "2019-10-29  1762.709961  1757.809570\n",
              "2019-10-30  1779.989990  1759.656494\n",
              "2019-10-31  1776.660034  1760.871338\n",
              "...                 ...          ...\n",
              "2021-04-05  3226.729980  2837.869141\n",
              "2021-04-06  3223.820068  2840.915771\n",
              "2021-04-07  3279.389893  2848.699219\n",
              "2021-04-08  3299.300049  2861.460205\n",
              "2021-04-09  3372.199951  2878.531982\n",
              "\n",
              "[366 rows x 2 columns]"
            ]
          },
          "metadata": {
            "tags": []
          },
          "execution_count": 138
        }
      ]
    },
    {
      "cell_type": "code",
      "metadata": {
        "colab": {
          "base_uri": "https://localhost:8080/"
        },
        "id": "S-V1O-ZUQ9fQ",
        "outputId": "f5d9338c-d214-434e-9b37-73de772c43ff"
      },
      "source": [
        "#  THIS BLOCK GETS PREDICTS THE PRICE FOR DECEMBER 18TH 2019 WITHOUT IT BEING IN THE DATA\n",
        "\n",
        "# get the quote \n",
        "apple_quote = web.DataReader('AMZN', data_source='yahoo', start= '2014-01-01', end='2021-04-11')\n",
        "#create a new dataframe\n",
        "new_df = apple_quote.filter(['Close'])\n",
        "#get the last 60 day closing price values and convert the dataframe to an array\n",
        "last_60_days = new_df[-60:].values\n",
        "#scale the data to be values between 0 and 1\n",
        "last_60_days_scaled = scaler.transform(last_60_days)\n",
        "#create and empty list\n",
        "X_test = []\n",
        "#Append the last 60 days\n",
        "X_test.append(last_60_days_scaled)\n",
        "\n",
        "#convert the X_test dataset to a numpy array\n",
        "X_test = np.array(X_test)\n",
        "\n",
        "#reshape\n",
        "X_test = np.reshape(X_test, (X_test.shape[0], X_test.shape[1],1))\n",
        "\n",
        "#get predicted scale price\n",
        "pred_price = model.predict(X_test)\n",
        "\n",
        "#undo scaling\n",
        "pred_price = scaler.inverse_transform(pred_price)\n",
        "\n",
        "print(pred_price)\n",
        "\n",
        "\n",
        "apple_quote2 = web.DataReader('AMZN', data_source='yahoo', start= '2021-04-12', end='2021-04-12')\n",
        "print(apple_quote2['Close'])\n",
        "\n",
        "##find a way to find actual - predicted \n",
        "# print(apple_quote2['Close',[0]] - pred_price[[0]])\n",
        "\n",
        "# print(apple_quote2['Close'] - pred_price[0])"
      ],
      "execution_count": 139,
      "outputs": [
        {
          "output_type": "stream",
          "text": [
            "[[2899.7234]]\n",
            "Date\n",
            "2021-04-12    3379.389893\n",
            "Name: Close, dtype: float64\n"
          ],
          "name": "stdout"
        }
      ]
    }
  ]
}