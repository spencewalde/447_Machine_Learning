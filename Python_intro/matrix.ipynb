{
 "metadata": {
  "language_info": {
   "codemirror_mode": {
    "name": "ipython",
    "version": 3
   },
   "file_extension": ".py",
   "mimetype": "text/x-python",
   "name": "python",
   "nbconvert_exporter": "python",
   "pygments_lexer": "ipython3",
   "version": "3.8.5-final"
  },
  "orig_nbformat": 2,
  "kernelspec": {
   "name": "python3",
   "display_name": "Python 3",
   "language": "python"
  }
 },
 "nbformat": 4,
 "nbformat_minor": 2,
 "cells": [
  {
   "cell_type": "code",
   "execution_count": 1,
   "metadata": {},
   "outputs": [],
   "source": [
    "import numpy as np"
   ]
  },
  {
   "cell_type": "code",
   "execution_count": 16,
   "metadata": {},
   "outputs": [
    {
     "output_type": "stream",
     "name": "stdout",
     "text": [
      "array a=\n[[4 6 9]\n [2 3 2]]\n"
     ]
    }
   ],
   "source": [
    "a=(np.random.rand(6)*10).astype(int)\n",
    "a=a.reshape(2,3)\n",
    "print('array a=')\n",
    "print(a)"
   ]
  },
  {
   "cell_type": "code",
   "execution_count": 17,
   "metadata": {},
   "outputs": [
    {
     "output_type": "stream",
     "name": "stdout",
     "text": [
      "array b=\n[[4 6]\n [3 5]\n [4 4]]\n"
     ]
    }
   ],
   "source": [
    "b=(np.random.rand(6)*10).astype(int)\n",
    "b=b.reshape(3,2)\n",
    "print('array b=')\n",
    "print(b)"
   ]
  },
  {
   "cell_type": "code",
   "execution_count": 18,
   "metadata": {},
   "outputs": [
    {
     "output_type": "stream",
     "name": "stdout",
     "text": [
      "[[70 90]\n [25 35]]\n"
     ]
    }
   ],
   "source": [
    "##dot product \n",
    "dotproduct = np.dot(a,b)\n",
    "print(dotproduct)"
   ]
  },
  {
   "cell_type": "code",
   "execution_count": 5,
   "metadata": {},
   "outputs": [
    {
     "output_type": "stream",
     "name": "stdout",
     "text": [
      "[[11 12]\n [ 3  8]\n [10 11]]\n"
     ]
    }
   ],
   "source": [
    "#add matrixes\n",
    "#dimensions need to be the same\n",
    "print(a+b)"
   ]
  },
  {
   "cell_type": "code",
   "execution_count": 6,
   "metadata": {},
   "outputs": [
    {
     "output_type": "stream",
     "name": "stdout",
     "text": [
      "[[30 36]\n [ 0 15]\n [24 18]]\n"
     ]
    }
   ],
   "source": [
    "#multiples values \n",
    "print(a*b)"
   ]
  },
  {
   "cell_type": "code",
   "execution_count": 23,
   "metadata": {},
   "outputs": [
    {
     "output_type": "stream",
     "name": "stdout",
     "text": [
      "[[1 2 3]\n [4 5 6]]\n[[6 3]\n [5 2]\n [4 1]]\n"
     ]
    }
   ],
   "source": [
    "## dot product\n",
    "#[[1 2 3]\n",
    "#[4 5 6]]\n",
    "#\n",
    "#[[6 3]\n",
    "# [5 2]\n",
    "# [4 1]]\n",
    "#\n",
    "#[[28 10]\n",
    "# [73 28]]\n",
    "\n",
    "a = np.arange(1,7).reshape(2,3)\n",
    "print(a)\n",
    "b= np.arange(1,7)[::-1].reshape(2,3)\n",
    "b = np.transpose(b)\n",
    "print(b)"
   ]
  },
  {
   "cell_type": "code",
   "execution_count": 24,
   "metadata": {},
   "outputs": [
    {
     "output_type": "stream",
     "name": "stdout",
     "text": [
      "[[28 10]\n [73 28]]\n"
     ]
    }
   ],
   "source": [
    "print(np.dot(a,b))"
   ]
  },
  {
   "cell_type": "code",
   "execution_count": null,
   "metadata": {},
   "outputs": [],
   "source": [
    "#Cross Product"
   ]
  },
  {
   "cell_type": "code",
   "execution_count": null,
   "metadata": {},
   "outputs": [],
   "source": [
    "# a = (1,2,3)   b = (4,5,6)\n",
    "#      i j k\n",
    "#      x y z \n",
    "\n",
    "#        | i j k |    ignore i        ignore j     ignore k\n",
    "# a X b =| 1 2 3 | = i(2x6 - 3x5) -j(1x6 - 4x3) +k(1x5 - 2x4)\n",
    "#        | 4 5 6 |\n",
    "#                  = i (-3) -j(-6) + k(-3)\n",
    "#                  = (-3,6,-3)"
   ]
  },
  {
   "cell_type": "code",
   "execution_count": 27,
   "metadata": {},
   "outputs": [
    {
     "output_type": "stream",
     "name": "stdout",
     "text": [
      "[-3  6 -3]\n"
     ]
    }
   ],
   "source": [
    "#a=[1,2,3]\n",
    "#b=[4,5,6]\n",
    "a = np.arange(1,4)\n",
    "b = np.arange(4,7)\n",
    "print(np.cross(a,b))"
   ]
  },
  {
   "cell_type": "code",
   "execution_count": 35,
   "metadata": {},
   "outputs": [
    {
     "output_type": "stream",
     "name": "stdout",
     "text": [
      "[-2.51760136e-01  5.02916651e-01 -1.89516615e-02 -5.02315270e-01\n  1.49498909e+00 -1.46437833e+00 -1.82535539e+00  1.73610365e+00\n -2.66638259e-01 -8.31995212e-01 -6.02917755e-01 -5.42826185e-01\n -1.78677352e+00 -1.64840427e-02  3.36227777e-01 -1.49610380e+00\n  9.68871064e-01  4.29609827e-01 -2.21029845e-01 -8.58296067e-01\n -7.43037895e-01 -1.38045953e-01  1.58170613e+00 -7.64048119e-01\n -6.00982609e-01 -4.42952620e-01 -5.96118713e-01 -8.55152653e-01\n -8.92679995e-01  2.25496704e+00  2.13104386e+00 -4.97437045e-01\n  7.32383208e-01  5.61190571e-01 -1.08674453e+00  9.29617627e-01\n -2.15822547e+00 -5.98460544e-01 -3.60662597e-01 -1.55290889e+00\n -5.05837486e-02  1.57976219e+00  1.56290781e-01 -1.05868820e+00\n  9.81475761e-01 -1.08742757e-01 -3.88095816e-01 -1.04996555e-01\n  5.78396282e-01 -4.57158590e-01 -2.18460569e-01  5.73579863e-01\n -8.59108166e-01  1.18311822e+00 -4.16751955e-01  1.42232623e+00\n  7.92952830e-01 -7.69388501e-01 -4.86694991e-01 -9.81072043e-01\n  2.01593133e-01  1.11791033e+00 -8.02942647e-01 -8.57761128e-01\n -1.04210430e+00  4.26322359e-01 -3.91063004e-01 -7.79326096e-01\n  1.65966135e+00  1.65115238e-01 -6.72553540e-01 -2.37136578e+00\n -2.63158304e+00  5.03861511e-01 -1.36802502e-01  5.79693636e-01\n  1.47055034e+00 -2.14532442e-01 -5.37700093e-01 -6.30341457e-01\n  1.28903893e+00  1.47844924e-01 -2.66969217e-01  1.68110209e+00\n  1.21990124e-01  7.32959186e-01  2.18394315e-01  3.35157765e-01\n -7.90943506e-01 -2.22554696e-01 -1.28710548e+00 -8.03172776e-02\n  1.33247580e+00  1.00708085e+00  2.53530368e-03  4.04523015e-01\n  2.61893217e-02 -1.19772763e-01 -1.11468968e-02 -5.44975833e-01]\n"
     ]
    }
   ],
   "source": [
    "#normal distribution\n",
    "a= np.random.normal(0,1,100)\n",
    "print(a)"
   ]
  },
  {
   "cell_type": "code",
   "execution_count": null,
   "metadata": {},
   "outputs": [],
   "source": []
  }
 ]
}