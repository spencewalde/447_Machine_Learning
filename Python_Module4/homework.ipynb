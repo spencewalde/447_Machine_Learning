{
 "metadata": {
  "language_info": {
   "codemirror_mode": {
    "name": "ipython",
    "version": 3
   },
   "file_extension": ".py",
   "mimetype": "text/x-python",
   "name": "python",
   "nbconvert_exporter": "python",
   "pygments_lexer": "ipython3",
   "version": "3.8.5-final"
  },
  "orig_nbformat": 2,
  "kernelspec": {
   "name": "python3",
   "display_name": "Python 3",
   "language": "python"
  }
 },
 "nbformat": 4,
 "nbformat_minor": 2,
 "cells": [
  {
   "cell_type": "code",
   "execution_count": 70,
   "metadata": {},
   "outputs": [],
   "source": [
    "import numpy as np\n",
    "import pandas as pd\n"
   ]
  },
  {
   "cell_type": "code",
   "execution_count": 109,
   "metadata": {},
   "outputs": [],
   "source": [
    "def confu_matrix(target, output):\n",
    "    K = len(np.unique(target))\n",
    "    result = np.zeros((K,K))\n",
    "\n",
    "    for i in range(len(target)):\n",
    "        result[target[i]-1][output[i]-1] += 1\n",
    "\n",
    "    return result\n",
    "\n",
    "def confu_acc(target,output):\n",
    "      return (target == output).sum() / float(len(target))\n"
   ]
  },
  {
   "cell_type": "code",
   "execution_count": 122,
   "metadata": {},
   "outputs": [
    {
     "output_type": "stream",
     "name": "stdout",
     "text": [
      "        0   1   2   3   4   5   6   7   8   9   ...  11  12  13  14  15  16  \\\n0   Target   4   4   3   3   1   3   4   3   4  ...   1   2   2   2   4   1   \n1   Output   3   1   4   1   4   4   2   4   2  ...   2   4   2   2   3   4   \n2   Target   3   4   1   3   3   3   2   4   2  ...   4   2   3   4   1   3   \n3   Output   2   3   4   4   1   1   3   1   1  ...   1   4   2   3   4   1   \n4   Target   1   3   3   2   2   3   4   2   2  ...   3   2   4   3   2   3   \n5   Output   2   4   4   1   3   3   3   2   4  ...   2   1   4   2   1   3   \n6   Target   2   4   3   2   3   3   4   4   2  ...   3   1   3   3   3   1   \n7   Output   1   2   3   1   4   3   2   1   2  ...   2   4   4   4   1   1   \n8   Target   1   2   4   3   4   2   2   4   3  ...   1   3   4   4   3   2   \n9   Output   3   1   2   3   1   3   1   1   2  ...   4   3   4   3   4   4   \n10  Target   3   1   4   1   4   4   2   4   2  ...   2   4   2   2   3   4   \n11  Output   3   1   2   3   1   3   1   1   2  ...   4   3   4   3   4   4   \n12  Target   2   3   4   4   1   1   3   1   1  ...   1   4   2   3   4   1   \n13  Output   3   1   4   1   4   4   2   4   2  ...   2   4   2   2   3   4   \n14  Target   1   3   3   2   2   3   4   2   2  ...   3   2   4   3   2   3   \n15  Output   1   2   3   1   4   3   2   1   2  ...   2   4   4   4   1   1   \n16  Target   4   4   3   3   1   3   4   3   4  ...   1   2   2   2   4   1   \n17  Output   1   2   4   3   4   2   2   4   3  ...   1   3   4   4   3   2   \n18  Target   2   3   4   4   1   1   3   1   1  ...   1   4   2   3   4   1   \n19  Output   1   3   3   2   2   3   4   2   2  ...   3   2   4   3   2   3   \n\n    17  18  19  20  \n0    3   2   1   4  \n1    3   3   3   2  \n2    1   4   2   2  \n3    3   3   2   2  \n4    2   4   2   1  \n5    4   3   3   4  \n6    2   2   1   1  \n7    2   3   4   1  \n8    1   4   3   4  \n9    1   3   3   2  \n10   3   3   3   2  \n11   1   3   3   2  \n12   3   3   2   2  \n13   3   3   3   2  \n14   2   4   2   1  \n15   2   3   4   1  \n16   3   2   1   4  \n17   1   4   3   4  \n18   3   3   2   2  \n19   2   4   2   1  \n\n[20 rows x 21 columns]\ntest\n[[0. 1. 1. 2.]\n [0. 2. 2. 1.]\n [1. 0. 1. 3.]\n [1. 3. 2. 0.]]\ntest\n[[0. 0. 1. 2.]\n [1. 2. 1. 1.]\n [3. 2. 0. 1.]\n [2. 1. 3. 0.]]\ntest\n[[0. 1. 0. 1.]\n [3. 1. 2. 2.]\n [0. 2. 2. 3.]\n [0. 0. 2. 1.]]\ntest\n[[2. 0. 0. 2.]\n [2. 2. 2. 0.]\n [1. 1. 2. 3.]\n [1. 2. 0. 0.]]\ntest\n[[1. 0. 1. 1.]\n [2. 0. 1. 2.]\n [0. 1. 3. 1.]\n [2. 2. 2. 1.]]\ntest\n[[1. 0. 1. 0.]\n [1. 2. 1. 2.]\n [1. 0. 3. 2.]\n [2. 1. 2. 1.]]\ntest\n[[0. 2. 0. 4.]\n [0. 2. 3. 0.]\n [1. 2. 2. 0.]\n [1. 0. 1. 2.]]\ntest\n[[2. 0. 0. 0.]\n [3. 2. 0. 3.]\n [1. 2. 3. 1.]\n [0. 1. 1. 1.]]\ntest\n[[1. 1. 1. 1.]\n [0. 1. 1. 3.]\n [1. 1. 1. 2.]\n [1. 2. 2. 1.]]\ntest\n[[0. 3. 3. 0.]\n [2. 1. 1. 1.]\n [0. 1. 2. 2.]\n [0. 3. 1. 0.]]\nAccuracy:\n[0.15, 0.1, 0.2, 0.3, 0.25, 0.35, 0.3, 0.4, 0.2, 0.15]\n"
     ]
    }
   ],
   "source": [
    "dataset = pd.read_csv('HW_TestingMetrics.csv', skiprows=[0,3,6,9,12,15,18,21,24,27,30],header=None)\n",
    "print(dataset)\n",
    "dataset = dataset.iloc[:,1:].values\n",
    "acc = []\n",
    "for i in range(0, len(dataset),2):\n",
    "    print('test')\n",
    "  \n",
    "    print(confu_matrix(dataset[i],dataset[i+1]))\n",
    "\n",
    "    acc.append(confu_acc(dataset[i],dataset[i+1]))\n",
    "print('Accuracy:')\n",
    "print(acc)\n",
    "\n"
   ]
  }
 ]
}