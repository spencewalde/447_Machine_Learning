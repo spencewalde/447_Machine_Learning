{
 "metadata": {
  "language_info": {
   "codemirror_mode": {
    "name": "ipython",
    "version": 3
   },
   "file_extension": ".py",
   "mimetype": "text/x-python",
   "name": "python",
   "nbconvert_exporter": "python",
   "pygments_lexer": "ipython3",
   "version": "3.8.5-final"
  },
  "orig_nbformat": 2,
  "kernelspec": {
   "name": "python3",
   "display_name": "Python 3",
   "language": "python"
  }
 },
 "nbformat": 4,
 "nbformat_minor": 2,
 "cells": [
  {
   "cell_type": "code",
   "execution_count": 43,
   "metadata": {},
   "outputs": [],
   "source": [
    "import numpy as np"
   ]
  },
  {
   "cell_type": "code",
   "execution_count": 44,
   "metadata": {},
   "outputs": [],
   "source": [
    "#create array"
   ]
  },
  {
   "cell_type": "code",
   "execution_count": 45,
   "metadata": {},
   "outputs": [],
   "source": [
    "a = np.array([[7,2,1],[0,3,-1],[-3,4,-2]])"
   ]
  },
  {
   "cell_type": "code",
   "execution_count": 46,
   "metadata": {},
   "outputs": [
    {
     "output_type": "stream",
     "name": "stdout",
     "text": [
      "[[ 7  2  1]\n [ 0  3 -1]\n [-3  4 -2]]\n"
     ]
    }
   ],
   "source": [
    "print(a)"
   ]
  },
  {
   "cell_type": "code",
   "execution_count": 47,
   "metadata": {},
   "outputs": [],
   "source": [
    "#get determinate of 3x3 matrix"
   ]
  },
  {
   "cell_type": "code",
   "execution_count": 48,
   "metadata": {},
   "outputs": [],
   "source": [
    "det = np.linalg.det(a)"
   ]
  },
  {
   "cell_type": "code",
   "execution_count": 49,
   "metadata": {},
   "outputs": [
    {
     "output_type": "stream",
     "name": "stdout",
     "text": [
      "Determinate of Matrix A:\n1\n"
     ]
    }
   ],
   "source": [
    "print('Determinate of Matrix A:')\n",
    "print(round(det))"
   ]
  },
  {
   "cell_type": "code",
   "execution_count": 50,
   "metadata": {},
   "outputs": [],
   "source": [
    "#transpose the array"
   ]
  },
  {
   "cell_type": "code",
   "execution_count": 51,
   "metadata": {},
   "outputs": [
    {
     "output_type": "stream",
     "name": "stdout",
     "text": [
      "[[ 7  0 -3]\n [ 2  3  4]\n [ 1 -1 -2]]\n"
     ]
    }
   ],
   "source": [
    "aneg = a.transpose()\n",
    "print(aneg)"
   ]
  },
  {
   "cell_type": "code",
   "execution_count": 52,
   "metadata": {},
   "outputs": [
    {
     "output_type": "stream",
     "name": "stdout",
     "text": [
      "determinate of transposed Matrix A:\n1\n"
     ]
    }
   ],
   "source": [
    "detneg = np.linalg.det(a)\n",
    "print('determinate of transposed Matrix A:')\n",
    "print(round(detneg))"
   ]
  },
  {
   "cell_type": "code",
   "execution_count": 53,
   "metadata": {},
   "outputs": [],
   "source": [
    "#gets minor of a single element in matrix"
   ]
  },
  {
   "cell_type": "code",
   "execution_count": 54,
   "metadata": {},
   "outputs": [],
   "source": [
    "def minorOfElement(A,i,j):\n",
    "    negA = np.delete(A,i-1,0)  \n",
    "    negA = np.delete(negA,j-1,1) \n",
    "    Minor_ij = np.linalg.det(negA)   \n",
    "    return np.round(Minor_ij) "
   ]
  },
  {
   "cell_type": "code",
   "execution_count": 55,
   "metadata": {},
   "outputs": [],
   "source": [
    "#loops and gets the minor of all elements in the 3x3 matrix"
   ]
  },
  {
   "cell_type": "code",
   "execution_count": 56,
   "metadata": {},
   "outputs": [],
   "source": [
    "def minorMatrix(A):\n",
    "    m = np.shape(A)[0]    \n",
    "    minorM = np.zeros([m,m]) \n",
    "    for i in range(1,m+1):\n",
    "        for j in range(1,m+1):\n",
    "            minorM[i-1,j-1] = minorOfElement(A,i,j)\n",
    "    return minorM"
   ]
  },
  {
   "cell_type": "code",
   "execution_count": 57,
   "metadata": {},
   "outputs": [],
   "source": [
    "#element wise multiplication"
   ]
  },
  {
   "cell_type": "code",
   "execution_count": 58,
   "metadata": {},
   "outputs": [],
   "source": [
    "def cofactor(A):\n",
    "    m = np.shape(A)[0]  \n",
    "    cofact = np.zeros([m,m])   \n",
    "    for i in range(1,m+1):\n",
    "        for j in range(1,m+1):\n",
    "            cofact[i-1,j-1] = pow(-1,i+j)*minorOfElement(A,i,j)\n",
    "    return cofact"
   ]
  },
  {
   "cell_type": "code",
   "execution_count": 59,
   "metadata": {},
   "outputs": [
    {
     "output_type": "stream",
     "name": "stdout",
     "text": [
      "Show minor_of_element() function working for - Matrix A:\n[[ 7  2  1]\n [ 0  3 -1]\n [-3  4 -2]]\nMinor of the element at 1st row and 1st column:\n-2.0\n"
     ]
    }
   ],
   "source": [
    "print('Show minor_of_element() function working for - Matrix A:')\n",
    "print(a)\n",
    "print('Minor of the element at 1st row and 1st column:')\n",
    "print(minorOfElement(a,1,1))"
   ]
  },
  {
   "cell_type": "code",
   "execution_count": 60,
   "metadata": {},
   "outputs": [
    {
     "output_type": "stream",
     "name": "stdout",
     "text": [
      "Matrix A:\n[[ 7  2  1]\n [ 0  3 -1]\n [-3  4 -2]]\nMatrix A transposed:\n[[ 7  0 -3]\n [ 2  3  4]\n [ 1 -1 -2]]\nTransposed Matrix A after minorMatrix() fuction:\n[[ -2.  -8.  -5.]\n [ -3. -11.  -7.]\n [  9.  34.  21.]]\n"
     ]
    }
   ],
   "source": [
    "print('Matrix A:')\n",
    "print(a)\n",
    "print('Matrix A transposed:')\n",
    "print(aneg)\n",
    "print('Transposed Matrix A after minorMatrix() fuction:')\n",
    "print(minorMatrix(aneg))"
   ]
  },
  {
   "cell_type": "code",
   "execution_count": 61,
   "metadata": {},
   "outputs": [
    {
     "output_type": "stream",
     "name": "stdout",
     "text": [
      "Transposed Matrix A cofactor() function: \n[[ -2.   8.  -5.]\n [  3. -11.   7.]\n [  9. -34.  21.]]\n"
     ]
    }
   ],
   "source": [
    "print('Transposed Matrix A after cofactor() function: ')\n",
    "print(cofactor(aneg))"
   ]
  },
  {
   "cell_type": "code",
   "execution_count": 62,
   "metadata": {},
   "outputs": [],
   "source": [
    "#compare output to inverse of original matrix"
   ]
  },
  {
   "cell_type": "code",
   "execution_count": 63,
   "metadata": {},
   "outputs": [
    {
     "output_type": "stream",
     "name": "stdout",
     "text": [
      "Matrix A inversed:\n[[ -2.   8.  -5.]\n [  3. -11.   7.]\n [  9. -34.  21.]]\n"
     ]
    }
   ],
   "source": [
    "print('Matrix A inversed:')\n",
    "print(np.linalg.inv(a))\n"
   ]
  }
 ]
}