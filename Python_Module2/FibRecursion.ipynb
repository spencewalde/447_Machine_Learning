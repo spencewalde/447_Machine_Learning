{
 "metadata": {
  "language_info": {
   "codemirror_mode": {
    "name": "ipython",
    "version": 3
   },
   "file_extension": ".py",
   "mimetype": "text/x-python",
   "name": "python",
   "nbconvert_exporter": "python",
   "pygments_lexer": "ipython3",
   "version": "3.8.5-final"
  },
  "orig_nbformat": 2,
  "kernelspec": {
   "name": "python3",
   "display_name": "Python 3",
   "language": "python"
  }
 },
 "nbformat": 4,
 "nbformat_minor": 2,
 "cells": [
  {
   "cell_type": "code",
   "execution_count": 2,
   "metadata": {},
   "outputs": [
    {
     "output_type": "stream",
     "name": "stdout",
     "text": [
      "a is larger\n"
     ]
    }
   ],
   "source": [
    "a =200\n",
    "b =33\n",
    "if b>a:\n",
    "    print(\"b is larger\")\n",
    "elif a==b:\n",
    "    print(\"they are equal\")\n",
    "else:\n",
    "    print(\"a is larger\")"
   ]
  }
 ]
}