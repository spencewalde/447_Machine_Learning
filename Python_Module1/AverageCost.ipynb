{
 "metadata": {
  "language_info": {
   "codemirror_mode": {
    "name": "ipython",
    "version": 3
   },
   "file_extension": ".py",
   "mimetype": "text/x-python",
   "name": "python",
   "nbconvert_exporter": "python",
   "pygments_lexer": "ipython3",
   "version": "3.8.5-final"
  },
  "orig_nbformat": 2,
  "kernelspec": {
   "name": "python3",
   "display_name": "Python 3",
   "language": "python"
  }
 },
 "nbformat": 4,
 "nbformat_minor": 2,
 "cells": [
  {
   "cell_type": "code",
   "execution_count": 7,
   "metadata": {},
   "outputs": [],
   "source": [
    "\n",
    "import pandas as pd"
   ]
  },
  {
   "cell_type": "code",
   "execution_count": 8,
   "metadata": {},
   "outputs": [],
   "source": [
    "#dataset.iloc[gets all rows , gets last column of data].get its values"
   ]
  },
  {
   "cell_type": "code",
   "execution_count": 9,
   "metadata": {},
   "outputs": [],
   "source": [
    "dataset = pd.read_csv('Data1.csv')\n",
    "X = dataset.iloc[:,-1].values"
   ]
  },
  {
   "cell_type": "code",
   "execution_count": 10,
   "metadata": {},
   "outputs": [
    {
     "output_type": "execute_result",
     "data": {
      "text/plain": [
       "    Product ID  Product Price\n",
       "0            1            161\n",
       "1            2            124\n",
       "2            3            142\n",
       "3            4             64\n",
       "4            5             37\n",
       "5            6             86\n",
       "6            7            171\n",
       "7            8             10\n",
       "8            9            122\n",
       "9           10             41\n",
       "10          11             49\n",
       "11          12             81\n",
       "12          13            183\n",
       "13          14             39\n",
       "14          15            125\n",
       "15          16             18\n",
       "16          17            192\n",
       "17          18             61\n",
       "18          19            107\n",
       "19          20             60\n",
       "20          21             47\n",
       "21          22              8\n",
       "22          23             16\n",
       "23          24            187\n",
       "24          25            145\n",
       "25          26            127\n",
       "26          27            145\n",
       "27          28            110\n",
       "28          29             16\n",
       "29          30            119"
      ],
      "text/html": "<div>\n<style scoped>\n    .dataframe tbody tr th:only-of-type {\n        vertical-align: middle;\n    }\n\n    .dataframe tbody tr th {\n        vertical-align: top;\n    }\n\n    .dataframe thead th {\n        text-align: right;\n    }\n</style>\n<table border=\"1\" class=\"dataframe\">\n  <thead>\n    <tr style=\"text-align: right;\">\n      <th></th>\n      <th>Product ID</th>\n      <th>Product Price</th>\n    </tr>\n  </thead>\n  <tbody>\n    <tr>\n      <th>0</th>\n      <td>1</td>\n      <td>161</td>\n    </tr>\n    <tr>\n      <th>1</th>\n      <td>2</td>\n      <td>124</td>\n    </tr>\n    <tr>\n      <th>2</th>\n      <td>3</td>\n      <td>142</td>\n    </tr>\n    <tr>\n      <th>3</th>\n      <td>4</td>\n      <td>64</td>\n    </tr>\n    <tr>\n      <th>4</th>\n      <td>5</td>\n      <td>37</td>\n    </tr>\n    <tr>\n      <th>5</th>\n      <td>6</td>\n      <td>86</td>\n    </tr>\n    <tr>\n      <th>6</th>\n      <td>7</td>\n      <td>171</td>\n    </tr>\n    <tr>\n      <th>7</th>\n      <td>8</td>\n      <td>10</td>\n    </tr>\n    <tr>\n      <th>8</th>\n      <td>9</td>\n      <td>122</td>\n    </tr>\n    <tr>\n      <th>9</th>\n      <td>10</td>\n      <td>41</td>\n    </tr>\n    <tr>\n      <th>10</th>\n      <td>11</td>\n      <td>49</td>\n    </tr>\n    <tr>\n      <th>11</th>\n      <td>12</td>\n      <td>81</td>\n    </tr>\n    <tr>\n      <th>12</th>\n      <td>13</td>\n      <td>183</td>\n    </tr>\n    <tr>\n      <th>13</th>\n      <td>14</td>\n      <td>39</td>\n    </tr>\n    <tr>\n      <th>14</th>\n      <td>15</td>\n      <td>125</td>\n    </tr>\n    <tr>\n      <th>15</th>\n      <td>16</td>\n      <td>18</td>\n    </tr>\n    <tr>\n      <th>16</th>\n      <td>17</td>\n      <td>192</td>\n    </tr>\n    <tr>\n      <th>17</th>\n      <td>18</td>\n      <td>61</td>\n    </tr>\n    <tr>\n      <th>18</th>\n      <td>19</td>\n      <td>107</td>\n    </tr>\n    <tr>\n      <th>19</th>\n      <td>20</td>\n      <td>60</td>\n    </tr>\n    <tr>\n      <th>20</th>\n      <td>21</td>\n      <td>47</td>\n    </tr>\n    <tr>\n      <th>21</th>\n      <td>22</td>\n      <td>8</td>\n    </tr>\n    <tr>\n      <th>22</th>\n      <td>23</td>\n      <td>16</td>\n    </tr>\n    <tr>\n      <th>23</th>\n      <td>24</td>\n      <td>187</td>\n    </tr>\n    <tr>\n      <th>24</th>\n      <td>25</td>\n      <td>145</td>\n    </tr>\n    <tr>\n      <th>25</th>\n      <td>26</td>\n      <td>127</td>\n    </tr>\n    <tr>\n      <th>26</th>\n      <td>27</td>\n      <td>145</td>\n    </tr>\n    <tr>\n      <th>27</th>\n      <td>28</td>\n      <td>110</td>\n    </tr>\n    <tr>\n      <th>28</th>\n      <td>29</td>\n      <td>16</td>\n    </tr>\n    <tr>\n      <th>29</th>\n      <td>30</td>\n      <td>119</td>\n    </tr>\n  </tbody>\n</table>\n</div>"
     },
     "metadata": {},
     "execution_count": 10
    }
   ],
   "source": [
    "dataset"
   ]
  },
  {
   "cell_type": "code",
   "execution_count": 11,
   "metadata": {},
   "outputs": [
    {
     "output_type": "stream",
     "name": "stdout",
     "text": [
      "[161 124 142  64  37  86 171  10 122  41  49  81 183  39 125  18 192  61\n 107  60  47   8  16 187 145 127 145 110  16 119]\n"
     ]
    }
   ],
   "source": [
    "print(X)"
   ]
  },
  {
   "cell_type": "code",
   "execution_count": 12,
   "metadata": {},
   "outputs": [
    {
     "output_type": "stream",
     "name": "stdout",
     "text": [
      "Average price is: \n"
     ]
    },
    {
     "output_type": "execute_result",
     "data": {
      "text/plain": [
       "93.1"
      ]
     },
     "metadata": {},
     "execution_count": 12
    }
   ],
   "source": [
    "print(\"Average price is: \")\n",
    "sum(X)/len(X)"
   ]
  },
  {
   "cell_type": "code",
   "execution_count": null,
   "metadata": {},
   "outputs": [],
   "source": []
  }
 ]
}